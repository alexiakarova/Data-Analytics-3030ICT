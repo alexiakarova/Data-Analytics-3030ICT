{
  "cells": [
    {
      "cell_type": "markdown",
      "metadata": {
        "id": "EDbJWoO1yO8e"
      },
      "source": [
        "# Image Classification with CNN - LeNet5 architecture"
      ]
    },
    {
      "cell_type": "markdown",
      "metadata": {
        "id": "JzQxqD6HyO8i"
      },
      "source": [
        "In this exercise, we will apply the LeNet5 algorithm to the Fashion MNIST dataset and improve your performances."
      ]
    },
    {
      "cell_type": "markdown",
      "metadata": {
        "id": "XFyVotRvyO8j"
      },
      "source": [
        "We will first download the data:"
      ]
    },
    {
      "cell_type": "code",
      "execution_count": null,
      "metadata": {
        "colab": {
          "base_uri": "https://localhost:8080/"
        },
        "id": "RTHLyL1fyO8j",
        "outputId": "3040c336-3f60-407a-e131-ee5e05a84712",
        "scrolled": true
      },
      "outputs": [
        {
          "output_type": "stream",
          "name": "stdout",
          "text": [
            "Downloading data from https://storage.googleapis.com/tensorflow/tf-keras-datasets/train-labels-idx1-ubyte.gz\n",
            "29515/29515 [==============================] - 0s 1us/step\n",
            "Downloading data from https://storage.googleapis.com/tensorflow/tf-keras-datasets/train-images-idx3-ubyte.gz\n",
            "26421880/26421880 [==============================] - 2s 0us/step\n",
            "Downloading data from https://storage.googleapis.com/tensorflow/tf-keras-datasets/t10k-labels-idx1-ubyte.gz\n",
            "5148/5148 [==============================] - 0s 0us/step\n",
            "Downloading data from https://storage.googleapis.com/tensorflow/tf-keras-datasets/t10k-images-idx3-ubyte.gz\n",
            "4422102/4422102 [==============================] - 1s 0us/step\n"
          ]
        },
        {
          "output_type": "execute_result",
          "data": {
            "text/plain": [
              "(60000, 28, 28)"
            ]
          },
          "metadata": {},
          "execution_count": 1
        }
      ],
      "source": [
        "# TODO: Load the dataset\n",
        "from tensorflow.keras.datasets import fashion_mnist\n",
        "\n",
        "(X_train, y_train), (X_test, y_test) = fashion_mnist.load_data()\n",
        "\n",
        "# # # If your computer is slow, try to use a subset of data, e.g.\n",
        "# X_train = X_train[:10000]\n",
        "# y_train = y_train[:10000]\n",
        "# X_test = X_test[:2000]\n",
        "# y_test = y_test[:2000]\n",
        "X_train.shape"
      ]
    },
    {
      "cell_type": "markdown",
      "metadata": {
        "id": "c8ShXIANyO8l"
      },
      "source": [
        "As you already know, this dataset contains 10 classes:\n",
        "* 0:\tT-shirt/top\n",
        "* 1:\tTrouser\n",
        "* 2:\tPullover\n",
        "* 3:\tDress\n",
        "* 4:\tCoat\n",
        "* 5:\tSandal\n",
        "* 6:\tShirt\n",
        "* 7:\tSneaker\n",
        "* 8:\tBag\n",
        "* 9:\tAnkle boot"
      ]
    },
    {
      "cell_type": "markdown",
      "metadata": {
        "id": "_BvNG0PbyO8l"
      },
      "source": [
        "You can have a look at some images if needed, even if you already know them."
      ]
    },
    {
      "cell_type": "code",
      "execution_count": null,
      "metadata": {
        "colab": {
          "base_uri": "https://localhost:8080/",
          "height": 452
        },
        "id": "lnjqgv-GyO8m",
        "outputId": "42d281b5-0dec-45d6-8e0a-41102cc86311",
        "scrolled": true
      },
      "outputs": [
        {
          "output_type": "display_data",
          "data": {
            "text/plain": [
              "<Figure size 640x480 with 1 Axes>"
            ],
            "image/png": "[encoded data removed]"
          },
          "metadata": {}
        }
      ],
      "source": [
        "# TODO: Explore the data, display some input images\n",
        "%matplotlib inline\n",
        "import matplotlib.pyplot as plt\n",
        "import numpy as np\n",
        "\n",
        "label_class = ['top', 'trouser', 'pullover', 'dress', 'coat', 'sandal', 'shirt', 'sneaker', 'bag', 'ankle boot']\n",
        "\n",
        "idx = np.random.randint(X_train.shape[0])\n",
        "\n",
        "plt.imshow(X_train[idx], cmap=\"gray_r\")\n",
        "plt.title(label_class[y_train[idx]])\n",
        "\n",
        "plt.show()"
      ]
    },
    {
      "cell_type": "markdown",
      "metadata": {
        "id": "AdYH6XW1yO8n"
      },
      "source": [
        "Make the data preparation and preprocessing: scale and reshape the data, put the labels to the good shape."
      ]
    },
    {
      "cell_type": "code",
      "execution_count": null,
      "metadata": {
        "id": "fjv8XMPByO8o",
        "colab": {
          "base_uri": "https://localhost:8080/"
        },
        "outputId": "9338323d-3448-4f0f-e555-40c51c4efc67"
      },
      "outputs": [
        {
          "output_type": "execute_result",
          "data": {
            "text/plain": [
              "(60000, 28, 28, 1)"
            ]
          },
          "metadata": {},
          "execution_count": 5
        }
      ],
      "source": [
        "# TODO: Make the data preparation\n",
        "from tensorflow.keras.utils import to_categorical\n",
        "\n",
        "y_train_cat = to_categorical(y_train, num_classes=10)\n",
        "y_test_cat = to_categorical(y_test, num_classes=10)\n",
        "\n",
        "X_train_norm = X_train/255\n",
        "X_test_norm = X_test/255\n",
        "\n",
        "\n",
        "X_train_norm = X_train_norm.reshape(X_train_norm.shape[0], 28, 28, 1)\n",
        "X_test_norm = X_test_norm.reshape(X_test_norm.shape[0], 28, 28, 1)\n",
        "\n",
        "X_train_norm.shape #Should be (60000, 28, 28, 1)"
      ]
    },
    {
      "cell_type": "markdown",
      "metadata": {
        "id": "y9LKzxR9yO8o"
      },
      "source": [
        "Now build the LeNet5 architecture. You can reuse the one of the course, or try to build it by yourself.\n",
        "\n",
        "The architecture is the following:\n",
        "\n",
        "<p align=\"center\">\n",
        "<img src=\"https://drive.google.com/uc?export=view&id=1WteTU2FPIVMkBKmMxGpFm5OjsX-szTbB\">\n",
        "</p>"
      ]
    },
    {
      "cell_type": "code",
      "execution_count": null,
      "metadata": {
        "id": "GKyMFlL6yO8o",
        "colab": {
          "base_uri": "https://localhost:8080/"
        },
        "outputId": "b9d89b3f-b1b8-4a75-c090-e29511f04b97"
      },
      "outputs": [
        {
          "output_type": "stream",
          "name": "stdout",
          "text": [
            "Model: \"sequential\"\n",
            "_________________________________________________________________\n",
            " Layer (type)                Output Shape              Param #   \n",
            "=================================================================\n",
            " C1 (Conv2D)                 (None, 26, 26, 6)         60        \n",
            "                                                                 \n",
            " S2 (MaxPooling2D)           (None, 13, 13, 6)         0         \n",
            "                                                                 \n",
            " C3 (Conv2D)                 (None, 11, 11, 16)        880       \n",
            "                                                                 \n",
            " S4 (MaxPooling2D)           (None, 5, 5, 16)          0         \n",
            "                                                                 \n",
            " flatten (Flatten)           (None, 400)               0         \n",
            "                                                                 \n",
            " C5 (Dense)                  (None, 120)               48120     \n",
            "                                                                 \n",
            " C6 (Dense)                  (None, 84)                10164     \n",
            "                                                                 \n",
            " dense (Dense)               (None, 10)                850       \n",
            "                                                                 \n",
            "=================================================================\n",
            "Total params: 60,074\n",
            "Trainable params: 60,074\n",
            "Non-trainable params: 0\n",
            "_________________________________________________________________\n"
          ]
        }
      ],
      "source": [
        "# TODO: Build your model\n",
        "from tensorflow.keras.models import Sequential\n",
        "from tensorflow.keras.layers import MaxPooling2D, Conv2D, Flatten, Dense\n",
        "\n",
        "\n",
        "def lenet5():\n",
        "    \n",
        "    model = Sequential()\n",
        "\n",
        "    # Layer C1\n",
        "    model.add(Conv2D(filters=6, name='C1', kernel_size=(3, 3), activation='relu', input_shape=(28,28,1)))\n",
        "    # Layer S2\n",
        "    model.add(MaxPooling2D(pool_size=(2, 2), name='S2'))\n",
        "    # Layer C3\n",
        "    model.add(Conv2D(filters=16, name='C3', kernel_size=(3, 3), activation='relu'))\n",
        "    # Layer S4\n",
        "    model.add(MaxPooling2D(pool_size=(2, 2), name='S4'))\n",
        "    # Before going into layer C5, we flatten our units\n",
        "    model.add(Flatten())\n",
        "    # Layer C5\n",
        "    model.add(Dense(120, activation='relu', name='C5'))\n",
        "    # Layer F6\n",
        "    model.add(Dense(84, activation='relu', name='C6'))\n",
        "    # Output layer\n",
        "    model.add(Dense(units=10, activation = 'softmax'))\n",
        "    \n",
        "    return model\n",
        "lenet5().summary()"
      ]
    },
    {
      "cell_type": "markdown",
      "metadata": {
        "id": "i1qBEauqyO8p"
      },
      "source": [
        "Now compile and fit your model on your training data. Since this is a multiclass classification, the loss is not `binary_crossentropy` anymore, but `categorical_crossentropy`."
      ]
    },
    {
      "cell_type": "code",
      "execution_count": null,
      "metadata": {
        "colab": {
          "base_uri": "https://localhost:8080/"
        },
        "id": "nPL3aKnyyO8p",
        "outputId": "b726de64-bcc4-475a-931d-2997fe4a6306",
        "scrolled": true
      },
      "outputs": [
        {
          "output_type": "stream",
          "name": "stdout",
          "text": [
            "Epoch 1/20\n",
            "30/30 [==============================] - 12s 32ms/step - loss: 1.8607 - accuracy: 0.3958 - val_loss: 1.0884 - val_accuracy: 0.6396\n",
            "Epoch 2/20\n",
            "30/30 [==============================] - 0s 13ms/step - loss: 0.8269 - accuracy: 0.7033 - val_loss: 0.7031 - val_accuracy: 0.7355\n",
            "Epoch 3/20\n",
            "30/30 [==============================] - 0s 13ms/step - loss: 0.6380 - accuracy: 0.7548 - val_loss: 0.6075 - val_accuracy: 0.7657\n",
            "Epoch 4/20\n",
            "30/30 [==============================] - 0s 12ms/step - loss: 0.5604 - accuracy: 0.7861 - val_loss: 0.5562 - val_accuracy: 0.7915\n",
            "Epoch 5/20\n",
            "30/30 [==============================] - 0s 13ms/step - loss: 0.5154 - accuracy: 0.8067 - val_loss: 0.5102 - val_accuracy: 0.8065\n",
            "Epoch 6/20\n",
            "30/30 [==============================] - 0s 12ms/step - loss: 0.4798 - accuracy: 0.8220 - val_loss: 0.4930 - val_accuracy: 0.8191\n",
            "Epoch 7/20\n",
            "30/30 [==============================] - 0s 12ms/step - loss: 0.4548 - accuracy: 0.8330 - val_loss: 0.4701 - val_accuracy: 0.8257\n",
            "Epoch 8/20\n",
            "30/30 [==============================] - 0s 12ms/step - loss: 0.4334 - accuracy: 0.8418 - val_loss: 0.4464 - val_accuracy: 0.8380\n",
            "Epoch 9/20\n",
            "30/30 [==============================] - 0s 12ms/step - loss: 0.4157 - accuracy: 0.8501 - val_loss: 0.4283 - val_accuracy: 0.8416\n",
            "Epoch 10/20\n",
            "30/30 [==============================] - 0s 12ms/step - loss: 0.3993 - accuracy: 0.8559 - val_loss: 0.4182 - val_accuracy: 0.8457\n",
            "Epoch 11/20\n",
            "30/30 [==============================] - 0s 16ms/step - loss: 0.3896 - accuracy: 0.8587 - val_loss: 0.4173 - val_accuracy: 0.8453\n",
            "Epoch 12/20\n",
            "30/30 [==============================] - 0s 16ms/step - loss: 0.3801 - accuracy: 0.8630 - val_loss: 0.4035 - val_accuracy: 0.8506\n",
            "Epoch 13/20\n",
            "30/30 [==============================] - 0s 16ms/step - loss: 0.3689 - accuracy: 0.8668 - val_loss: 0.3974 - val_accuracy: 0.8518\n",
            "Epoch 14/20\n",
            "30/30 [==============================] - 1s 17ms/step - loss: 0.3620 - accuracy: 0.8691 - val_loss: 0.3883 - val_accuracy: 0.8583\n",
            "Epoch 15/20\n",
            "30/30 [==============================] - 0s 16ms/step - loss: 0.3571 - accuracy: 0.8704 - val_loss: 0.3785 - val_accuracy: 0.8618\n",
            "Epoch 16/20\n",
            "30/30 [==============================] - 0s 14ms/step - loss: 0.3471 - accuracy: 0.8738 - val_loss: 0.3737 - val_accuracy: 0.8618\n",
            "Epoch 17/20\n",
            "30/30 [==============================] - 0s 14ms/step - loss: 0.3427 - accuracy: 0.8755 - val_loss: 0.3725 - val_accuracy: 0.8681\n",
            "Epoch 18/20\n",
            "30/30 [==============================] - 0s 12ms/step - loss: 0.3375 - accuracy: 0.8779 - val_loss: 0.3637 - val_accuracy: 0.8675\n",
            "Epoch 19/20\n",
            "30/30 [==============================] - 0s 13ms/step - loss: 0.3337 - accuracy: 0.8785 - val_loss: 0.3642 - val_accuracy: 0.8699\n",
            "Epoch 20/20\n",
            "30/30 [==============================] - 0s 13ms/step - loss: 0.3274 - accuracy: 0.8814 - val_loss: 0.3569 - val_accuracy: 0.8717\n"
          ]
        },
        {
          "output_type": "execute_result",
          "data": {
            "text/plain": [
              "<keras.callbacks.History at 0x7fd84c898760>"
            ]
          },
          "metadata": {},
          "execution_count": 7
        }
      ],
      "source": [
        "# TODO: Compile and fit your model\n",
        "import os\n",
        "\n",
        "# os.environ['KMP_DUPLICATE_LIB_OK']='True' #https://stackoverflow.com/questions/53014306/error-15-initializing-libiomp5-dylib-but-found-libiomp5-dylib-already-initial\n",
        "\n",
        "\n",
        "from tensorflow.keras.callbacks import EarlyStopping\n",
        "from tensorflow.keras.callbacks import TensorBoard\n",
        "\n",
        "model = lenet5()\n",
        "\n",
        "model.compile(optimizer='adam', loss='categorical_crossentropy', metrics=['accuracy'])\n",
        "\n",
        "# Define now our callbacks\n",
        "# callbacks = [EarlyStopping(monitor='val_loss', patience=10), TensorBoard(log_dir='./keras-logs', histogram_freq=0, write_graph=True, write_images=True)]\n",
        "callbacks = [EarlyStopping(monitor='val_loss', patience=10)]\n",
        "\n",
        "# Finally fit the model\n",
        "model.fit(x=X_train_norm, y=y_train_cat, validation_data=(X_test_norm, y_test_cat), epochs=20, batch_size=2048, callbacks=callbacks)"
      ]
    },
    {
      "cell_type": "markdown",
      "metadata": {
        "id": "Rf-SqjjOyO8q"
      },
      "source": [
        "Have a look at the tensorboard and see if it gives a deeper understanding of your model."
      ]
    },
    {
      "cell_type": "markdown",
      "metadata": {
        "id": "k2FTj7TSyO8q"
      },
      "source": [
        "Compute then the accuracy of your model. Is it better than a regular MLP used before?"
      ]
    },
    {
      "cell_type": "code",
      "execution_count": null,
      "metadata": {
        "colab": {
          "base_uri": "https://localhost:8080/"
        },
        "id": "rPjJoMQZyO8q",
        "outputId": "d220410a-8453-495a-97cf-504b0a1169e9"
      },
      "outputs": [
        {
          "output_type": "stream",
          "name": "stdout",
          "text": [
            "59/59 [==============================] - 0s 5ms/step\n",
            "10/10 [==============================] - 0s 15ms/step\n",
            "accuracy on train with NN: 0.8827833333333334\n",
            "accuracy on test with NN: 0.8717\n"
          ]
        }
      ],
      "source": [
        "# TODO: Compute the accuracy of your model\n",
        "from sklearn.metrics import accuracy_score\n",
        "\n",
        "batch_size = 1024\n",
        "y_pred_train = to_categorical(model.predict(X_train_norm, batch_size=batch_size).argmax(axis=1), num_classes=10)\n",
        "y_pred_test = to_categorical(model.predict(X_test_norm, batch_size=batch_size).argmax(axis=1), num_classes=10)\n",
        "\n",
        "print('accuracy on train with NN:', accuracy_score(y_pred_train, y_train_cat))\n",
        "print('accuracy on test with NN:', accuracy_score(y_pred_test, y_test_cat))"
      ]
    },
    {
      "cell_type": "markdown",
      "metadata": {
        "id": "1vulsgHiyO8q"
      },
      "source": [
        "We will now add image augmentation to improve our results, especially we will try to reduce overfitting this way.\n",
        "\n",
        "To do so, you can use `ImageDataGenerator` from Keras that makes all the work for you (including rescaling), with the following parameter: \n",
        "* `horizontal_flip=True`\n",
        "\n",
        "For more info about how the `ImageDataGenerator` works, you can check out [this article](https://www.pyimagesearch.com/2019/07/08/keras-imagedatagenerator-and-data-augmentation/).\n",
        "\n",
        "Begin by creating an object `ImageDataGenerator` with this parameter."
      ]
    },
    {
      "cell_type": "code",
      "execution_count": null,
      "metadata": {
        "ExecuteTime": {
          "end_time": "2020-08-19T11:58:37.442182Z",
          "start_time": "2020-08-19T11:58:37.438397Z"
        },
        "id": "pas-fMSIyO8q"
      },
      "outputs": [],
      "source": [
        "# TODO: Instantiate an ImageDataGenerator object\n",
        "from tensorflow.keras.preprocessing.image import ImageDataGenerator\n",
        "\n",
        "datagen = ImageDataGenerator(horizontal_flip=True)"
      ]
    },
    {
      "cell_type": "markdown",
      "metadata": {
        "id": "k7nCnu9syO8r"
      },
      "source": [
        "Finally, you can train your model using this generator, with the method `fit_generator` of your model and the method `flow` of your `ImageDataGenerator`."
      ]
    },
    {
      "cell_type": "code",
      "execution_count": null,
      "metadata": {
        "colab": {
          "base_uri": "https://localhost:8080/"
        },
        "id": "Zt6wXa3IyO8r",
        "outputId": "a7abd584-4069-4b35-828f-bd8982a742d0",
        "scrolled": true
      },
      "outputs": [
        {
          "output_type": "stream",
          "name": "stdout",
          "text": [
            "Epoch 1/20\n"
          ]
        },
        {
          "output_type": "stream",
          "name": "stderr",
          "text": [
            "<ipython-input-10-f5442c0fba65>:3: UserWarning: `Model.fit_generator` is deprecated and will be removed in a future version. Please use `Model.fit`, which supports generators.\n",
            "  model.fit_generator(datagen.flow(X_train_norm, y_train_cat, batch_size=batch_size),\n"
          ]
        },
        {
          "output_type": "stream",
          "name": "stdout",
          "text": [
            "58/58 [==============================] - 4s 59ms/step - loss: 0.5436 - accuracy: 0.8267 - val_loss: 0.3865 - val_accuracy: 0.8626\n",
            "Epoch 2/20\n",
            "58/58 [==============================] - 3s 58ms/step - loss: 0.3705 - accuracy: 0.8675 - val_loss: 0.3699 - val_accuracy: 0.8674\n",
            "Epoch 3/20\n",
            "58/58 [==============================] - 3s 60ms/step - loss: 0.3497 - accuracy: 0.8736 - val_loss: 0.3597 - val_accuracy: 0.8704\n",
            "Epoch 4/20\n",
            "58/58 [==============================] - 4s 64ms/step - loss: 0.3383 - accuracy: 0.8778 - val_loss: 0.3519 - val_accuracy: 0.8744\n",
            "Epoch 5/20\n",
            "58/58 [==============================] - 3s 49ms/step - loss: 0.3317 - accuracy: 0.8797 - val_loss: 0.3456 - val_accuracy: 0.8744\n",
            "Epoch 6/20\n",
            "58/58 [==============================] - 4s 61ms/step - loss: 0.3228 - accuracy: 0.8827 - val_loss: 0.3384 - val_accuracy: 0.8756\n",
            "Epoch 7/20\n",
            "58/58 [==============================] - 3s 59ms/step - loss: 0.3169 - accuracy: 0.8852 - val_loss: 0.3373 - val_accuracy: 0.8770\n",
            "Epoch 8/20\n",
            "58/58 [==============================] - 3s 48ms/step - loss: 0.3160 - accuracy: 0.8857 - val_loss: 0.3316 - val_accuracy: 0.8795\n",
            "Epoch 9/20\n",
            "58/58 [==============================] - 3s 58ms/step - loss: 0.3088 - accuracy: 0.8878 - val_loss: 0.3324 - val_accuracy: 0.8790\n",
            "Epoch 10/20\n",
            "58/58 [==============================] - 3s 59ms/step - loss: 0.3106 - accuracy: 0.8872 - val_loss: 0.3238 - val_accuracy: 0.8819\n",
            "Epoch 11/20\n",
            "58/58 [==============================] - 3s 59ms/step - loss: 0.2994 - accuracy: 0.8903 - val_loss: 0.3291 - val_accuracy: 0.8802\n",
            "Epoch 12/20\n",
            "58/58 [==============================] - 3s 49ms/step - loss: 0.2935 - accuracy: 0.8942 - val_loss: 0.3170 - val_accuracy: 0.8818\n",
            "Epoch 13/20\n",
            "58/58 [==============================] - 4s 63ms/step - loss: 0.2888 - accuracy: 0.8959 - val_loss: 0.3254 - val_accuracy: 0.8830\n",
            "Epoch 14/20\n",
            "58/58 [==============================] - 3s 59ms/step - loss: 0.2892 - accuracy: 0.8941 - val_loss: 0.3129 - val_accuracy: 0.8854\n",
            "Epoch 15/20\n",
            "58/58 [==============================] - 3s 48ms/step - loss: 0.2837 - accuracy: 0.8971 - val_loss: 0.3115 - val_accuracy: 0.8863\n",
            "Epoch 16/20\n",
            "58/58 [==============================] - 4s 67ms/step - loss: 0.2807 - accuracy: 0.8969 - val_loss: 0.3075 - val_accuracy: 0.8871\n",
            "Epoch 17/20\n",
            "58/58 [==============================] - 3s 59ms/step - loss: 0.2777 - accuracy: 0.8998 - val_loss: 0.3096 - val_accuracy: 0.8857\n",
            "Epoch 18/20\n",
            "58/58 [==============================] - 5s 91ms/step - loss: 0.2757 - accuracy: 0.8996 - val_loss: 0.3049 - val_accuracy: 0.8871\n",
            "Epoch 19/20\n",
            "58/58 [==============================] - 5s 82ms/step - loss: 0.2710 - accuracy: 0.9018 - val_loss: 0.3032 - val_accuracy: 0.8888\n",
            "Epoch 20/20\n",
            "58/58 [==============================] - 6s 104ms/step - loss: 0.2707 - accuracy: 0.9016 - val_loss: 0.3013 - val_accuracy: 0.8902\n"
          ]
        },
        {
          "output_type": "execute_result",
          "data": {
            "text/plain": [
              "<keras.callbacks.History at 0x7fd7b9aa12d0>"
            ]
          },
          "metadata": {},
          "execution_count": 10
        }
      ],
      "source": [
        "# TODO: train your model\n",
        "batch_size = 1024\n",
        "model.fit_generator(datagen.flow(X_train_norm, y_train_cat, batch_size=batch_size),\n",
        "                    validation_data=(X_test_norm, y_test_cat), callbacks=callbacks,\n",
        "                    steps_per_epoch=len(X_train_norm) / batch_size, epochs=20)"
      ]
    },
    {
      "cell_type": "markdown",
      "metadata": {
        "id": "NuzFke8pyO8r"
      },
      "source": [
        "Recompute the accuracy of your model, does it improve your performances with data augmentation?"
      ]
    },
    {
      "cell_type": "code",
      "execution_count": null,
      "metadata": {
        "colab": {
          "base_uri": "https://localhost:8080/"
        },
        "id": "jsTm86tuyO8r",
        "outputId": "d2040ab9-73c3-4fcd-8147-60ac5d945a14"
      },
      "outputs": [
        {
          "output_type": "stream",
          "name": "stdout",
          "text": [
            "59/59 [==============================] - 0s 3ms/step\n",
            "10/10 [==============================] - 0s 4ms/step\n",
            "accuracy on train with CNN: 0.9043666666666667\n",
            "accuracy on test with CNN: 0.8902\n"
          ]
        }
      ],
      "source": [
        "# TODO: Compute the accuracy of your model\n",
        "from sklearn.metrics import accuracy_score\n",
        "\n",
        "batch_size=1024\n",
        "y_pred_train = to_categorical(model.predict(X_train_norm, batch_size=batch_size).argmax(axis=1), num_classes=10)\n",
        "y_pred_test = to_categorical(model.predict(X_test_norm, batch_size=batch_size).argmax(axis=1), num_classes=10)\n",
        "\n",
        "print('accuracy on train with CNN:', accuracy_score(y_pred_train, y_train_cat))\n",
        "print('accuracy on test with CNN:', accuracy_score(y_pred_test, y_test_cat))"
      ]
    },
    {
      "cell_type": "markdown",
      "metadata": {
        "id": "jOzkdGf7yO8s"
      },
      "source": [
        "You can now try to improve even more your results. For example, add more parameters to your `ImageDataGenerator`, play with some hyperparameters, and so on..."
      ]
    }
  ],
  "metadata": {
    "accelerator": "GPU",
    "colab": {
      "provenance": []
    },
    "kernelspec": {
      "display_name": "Python 3",
      "language": "python",
      "name": "python3"
    },
    "language_info": {
      "codemirror_mode": {
        "name": "ipython",
        "version": 3
      },
      "file_extension": ".py",
      "mimetype": "text/x-python",
      "name": "python",
      "nbconvert_exporter": "python",
      "pygments_lexer": "ipython3",
      "version": "3.7.4"
    },
    "toc": {
      "base_numbering": 1,
      "nav_menu": {},
      "number_sections": true,
      "sideBar": true,
      "skip_h1_title": false,
      "title_cell": "Table of Contents",
      "title_sidebar": "Contents",
      "toc_cell": false,
      "toc_position": {},
      "toc_section_display": true,
      "toc_window_display": false
    },
    "varInspector": {
      "cols": {
        "lenName": 16,
        "lenType": 16,
        "lenVar": 40
      },
      "kernels_config": {
        "python": {
          "delete_cmd_postfix": "",
          "delete_cmd_prefix": "del ",
          "library": "var_list.py",
          "varRefreshCmd": "print(var_dic_list())"
        },
        "r": {
          "delete_cmd_postfix": ") ",
          "delete_cmd_prefix": "rm(",
          "library": "var_list.r",
          "varRefreshCmd": "cat(var_dic_list()) "
        }
      },
      "types_to_exclude": [
        "module",
        "function",
        "builtin_function_or_method",
        "instance",
        "_Feature"
      ],
      "window_display": false
    }
  },
  "nbformat": 4,
  "nbformat_minor": 0
}