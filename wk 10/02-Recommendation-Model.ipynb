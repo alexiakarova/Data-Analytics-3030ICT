{
 "cells": [
  {
   "cell_type": "markdown",
   "metadata": {},
   "source": [
    "# Recommendation - Model 🍿"
   ]
  },
  {
   "cell_type": "markdown",
   "metadata": {},
   "source": [
    "---"
   ]
  },
  {
   "cell_type": "markdown",
   "metadata": {},
   "source": [
    "<img src=\"https://visithrastnik.si/uploads/tic/public/generic_list_item/6-kulturna_prireditev_v_avli_kulturnega_centra_zagorje_ob_savi.jpg\" />"
   ]
  },
  {
   "cell_type": "markdown",
   "metadata": {},
   "source": [
    "---"
   ]
  },
  {
   "cell_type": "code",
   "execution_count": 5,
   "metadata": {},
   "outputs": [
    {
     "name": "stdout",
     "output_type": "stream",
     "text": [
      "Collecting lightfm\n",
      "  Downloading lightfm-1.17.tar.gz (316 kB)\n",
      "\u001b[2K     \u001b[90m━━━━━━━━━━━━━━━━━━━━━━━━━━━━━━━━━━━━━━━\u001b[0m \u001b[32m316.4/316.4 kB\u001b[0m \u001b[31m4.4 MB/s\u001b[0m eta \u001b[36m0:00:00\u001b[0ma \u001b[36m0:00:01\u001b[0m\n",
      "\u001b[?25h  Preparing metadata (setup.py) ... \u001b[?25ldone\n",
      "\u001b[?25hRequirement already satisfied: numpy in /Users/alexia/opt/anaconda3/lib/python3.9/site-packages (from lightfm) (1.24.3)\n",
      "Requirement already satisfied: scipy>=0.17.0 in /Users/alexia/opt/anaconda3/lib/python3.9/site-packages (from lightfm) (1.9.1)\n",
      "Requirement already satisfied: requests in /Users/alexia/opt/anaconda3/lib/python3.9/site-packages (from lightfm) (2.28.1)\n",
      "Requirement already satisfied: scikit-learn in /Users/alexia/opt/anaconda3/lib/python3.9/site-packages (from lightfm) (1.0.2)\n",
      "Requirement already satisfied: charset-normalizer<3,>=2 in /Users/alexia/opt/anaconda3/lib/python3.9/site-packages (from requests->lightfm) (2.0.4)\n",
      "Requirement already satisfied: idna<4,>=2.5 in /Users/alexia/opt/anaconda3/lib/python3.9/site-packages (from requests->lightfm) (3.3)\n",
      "Requirement already satisfied: urllib3<1.27,>=1.21.1 in /Users/alexia/opt/anaconda3/lib/python3.9/site-packages (from requests->lightfm) (1.26.11)\n",
      "Requirement already satisfied: certifi>=2017.4.17 in /Users/alexia/opt/anaconda3/lib/python3.9/site-packages (from requests->lightfm) (2022.9.24)\n",
      "Requirement already satisfied: joblib>=0.11 in /Users/alexia/opt/anaconda3/lib/python3.9/site-packages (from scikit-learn->lightfm) (1.2.0)\n",
      "Requirement already satisfied: threadpoolctl>=2.0.0 in /Users/alexia/opt/anaconda3/lib/python3.9/site-packages (from scikit-learn->lightfm) (2.2.0)\n",
      "Building wheels for collected packages: lightfm\n",
      "  Building wheel for lightfm (setup.py) ... \u001b[?25ldone\n",
      "\u001b[?25h  Created wheel for lightfm: filename=lightfm-1.17-cp39-cp39-macosx_10_9_x86_64.whl size=425952 sha256=d4610249757ce5fa94b746e22f60b4262ff4aeafb3fd5d63a13752f26e6a525c\n",
      "  Stored in directory: /Users/alexia/Library/Caches/pip/wheels/d8/65/93/6ac8180274dc2e8f86ff326be62da1dfa55dc158fd45faba7d\n",
      "Successfully built lightfm\n",
      "Installing collected packages: lightfm\n",
      "Successfully installed lightfm-1.17\n"
     ]
    }
   ],
   "source": [
    "!pip install lightfm"
   ]
  },
  {
   "cell_type": "markdown",
   "metadata": {},
   "source": [
    "Now, time for the exciting part! We will train a Machine Learning model based on our previous **ratings** sparse matrix, so that it creates a recommendation engine automatically! "
   ]
  },
  {
   "cell_type": "markdown",
   "metadata": {},
   "source": [
    "First, load again the dataframe `movies` and `ratings`"
   ]
  },
  {
   "cell_type": "code",
   "execution_count": 1,
   "metadata": {},
   "outputs": [
    {
     "name": "stdout",
     "output_type": "stream",
     "text": [
      "   movieId                               title   \n",
      "0        1                    Toy Story (1995)  \\\n",
      "1        2                      Jumanji (1995)   \n",
      "2        3             Grumpier Old Men (1995)   \n",
      "3        4            Waiting to Exhale (1995)   \n",
      "4        5  Father of the Bride Part II (1995)   \n",
      "\n",
      "                                        genres  \n",
      "0  Adventure|Animation|Children|Comedy|Fantasy  \n",
      "1                   Adventure|Children|Fantasy  \n",
      "2                               Comedy|Romance  \n",
      "3                         Comedy|Drama|Romance  \n",
      "4                                       Comedy  \n",
      "   userId  movieId  rating  timestamp\n",
      "0       1        1     4.0  964982703\n",
      "1       1        3     4.0  964981247\n",
      "2       1        6     4.0  964982224\n",
      "3       1       47     5.0  964983815\n",
      "4       1       50     5.0  964982931\n"
     ]
    }
   ],
   "source": [
    "### TODO: load the movies and ratings datasets\n",
    "import pandas as pd\n",
    "movies = pd.read_csv(\"ml-latest-small/movies.csv\")\n",
    "ratings = pd.read_csv(\"ml-latest-small/ratings.csv\")\n",
    "\n",
    "print(movies.head())\n",
    "print(ratings.head())"
   ]
  },
  {
   "cell_type": "markdown",
   "metadata": {},
   "source": [
    "**Q1**. Start by loading all the pickle you saved during last challenge: `ratings_matrix`, `idx_to_mid`, `mid_to_idx`, `uid_to_idx`, `idx_to_uid`"
   ]
  },
  {
   "cell_type": "code",
   "execution_count": 3,
   "metadata": {},
   "outputs": [],
   "source": [
    "import pickle\n",
    "ratings_matrix = pickle.load(open(\"data/dataratings_matrix.pkl\", \"rb\"))\n",
    "idx_to_mid = pickle.load(open(\"data/idx_to_mid.pkl\", \"rb\"))\n",
    "mid_to_idx = pickle.load(open(\"data/mid_to_idx.pkl\", \"rb\"))\n",
    "uid_to_idx = pickle.load(open(\"data/uid_to_idx.pkl\", \"rb\"))\n",
    "idx_to_uid = pickle.load(open(\"data/idx_to_uid.pkl\", \"rb\"))"
   ]
  },
  {
   "cell_type": "markdown",
   "metadata": {},
   "source": [
    "**Q2**. Because the dataset is slightly different from what we have been used to (X as features, y as target), the usual `train_test_split` method from scikit-learn does not apply.\n",
    "\n",
    "Hopefully, `lightfm` comes with a `random_train_test_split` located into `cross_validation` dedicated to this usecase 🙂\n",
    "\n",
    "Split the data randomly into a `train` matrix and a `test` matrix with 20% of interactions into the test set."
   ]
  },
  {
   "cell_type": "code",
   "execution_count": 7,
   "metadata": {},
   "outputs": [],
   "source": [
    "import numpy as np\n",
    "from lightfm.cross_validation import random_train_test_split\n",
    "\n",
    "train, test = random_train_test_split(\n",
    "    ratings_matrix,\n",
    "    test_percentage=0.2,\n",
    "    random_state=np.random.RandomState(0))"
   ]
  },
  {
   "cell_type": "markdown",
   "metadata": {},
   "source": [
    "**Q3**. Train a LightFM model for 10 epochs. You can use the parameter `loss=\"warp\"`."
   ]
  },
  {
   "cell_type": "code",
   "execution_count": 10,
   "metadata": {
    "scrolled": true
   },
   "outputs": [
    {
     "name": "stderr",
     "output_type": "stream",
     "text": [
      "Epoch: 100%|████████████████████████████████████| 10/10 [00:01<00:00,  9.81it/s]\n"
     ]
    },
    {
     "data": {
      "text/plain": [
       "<lightfm.lightfm.LightFM at 0x7fec00a78be0>"
      ]
     },
     "execution_count": 10,
     "metadata": {},
     "output_type": "execute_result"
    }
   ],
   "source": [
    "\n",
    "from lightfm import LightFM\n",
    "\n",
    "model = LightFM(no_components=100, loss=\"warp\", random_state=0)\n",
    "\n",
    "model.fit(train, epochs=10, verbose=True)"
   ]
  },
  {
   "cell_type": "markdown",
   "metadata": {},
   "source": [
    "**Q4**. Evaluate your model on your test set. You can use the `precision_at_k` metric implemented in the LightFM library."
   ]
  },
  {
   "cell_type": "code",
   "execution_count": 11,
   "metadata": {},
   "outputs": [
    {
     "name": "stdout",
     "output_type": "stream",
     "text": [
      "Precision at k: 5 0.28965518\n"
     ]
    }
   ],
   "source": [
    "from lightfm.evaluation import precision_at_k\n",
    "\n",
    "k = 5\n",
    "precision_k = precision_at_k(model, test, train, k=k).mean()\n",
    "\n",
    "print(\"Precision at k:\", k, precision_k)"
   ]
  },
  {
   "cell_type": "markdown",
   "metadata": {},
   "source": [
    "**Q5**. What does the attribute `item_embeddings` of `model` contains?  This will be the heart of your recommendation engine! 💟 So make sure you understand fully what it contains."
   ]
  },
  {
   "cell_type": "code",
   "execution_count": 12,
   "metadata": {},
   "outputs": [
    {
     "name": "stdout",
     "output_type": "stream",
     "text": [
      "(3650, 100)\n"
     ]
    }
   ],
   "source": [
    "print(model.item_embeddings.shape)"
   ]
  },
  {
   "cell_type": "markdown",
   "metadata": {},
   "source": [
    "**Q6**. We just trained a model that factorized our ratings matrix into a U matrix of shape (n_users, no_components) : `model.user_embeddings` ; and V matrix of shape (n_movies, no_components) : `model.item_embeddings`).\n",
    "\n",
    "Now we want to compute **similarity between each pair of movies**.\n",
    "\n",
    "> 🔦 **Hint**: For the similarity distance we can either use `cosine_similarity` function or `pearson_similarity`:\n",
    "> - **Cosine similarity** between two vectors, or matrices X and Y is given by:\n",
    "> ``` python\n",
    "> from sklearn.metrics.pairwise import cosine_similarity\n",
    "> cosine_similarity(X, Y)\n",
    "> ```\n",
    "> - **Pearson similarity** between two vectors, or matrices X and Y is given by:\n",
    "> ``` python\n",
    "> import numpy as np\n",
    "> np.corrcoef(X, Y)\n",
    "> ```\n",
    "\n",
    "Compute the `similarity_scores` of size (n_movies, n_movies), containing for each element (i, j) the similarity between movie of index i and movie of index j."
   ]
  },
  {
   "cell_type": "code",
   "execution_count": 13,
   "metadata": {},
   "outputs": [
    {
     "name": "stdout",
     "output_type": "stream",
     "text": [
      "(3650, 3650)\n"
     ]
    },
    {
     "data": {
      "text/plain": [
       "array([[ 1.0000004 ,  0.14963762,  0.2653598 , ..., -0.39462298,\n",
       "        -0.04845239, -0.38155937],\n",
       "       [ 0.14963762,  0.99999994,  0.14907813, ..., -0.1917545 ,\n",
       "        -0.33483273,  0.03097395],\n",
       "       [ 0.2653598 ,  0.14907813,  1.        , ..., -0.33357555,\n",
       "        -0.32673782,  0.15659057],\n",
       "       ...,\n",
       "       [-0.39462298, -0.1917545 , -0.33357555, ...,  1.0000001 ,\n",
       "         0.65127945,  0.05125603],\n",
       "       [-0.04845239, -0.33483273, -0.32673782, ...,  0.65127945,\n",
       "         0.99999994, -0.29655012],\n",
       "       [-0.38155937,  0.03097395,  0.15659057, ...,  0.05125603,\n",
       "        -0.29655012,  0.9999999 ]], dtype=float32)"
      ]
     },
     "execution_count": 13,
     "metadata": {},
     "output_type": "execute_result"
    }
   ],
   "source": [
    "from sklearn.metrics.pairwise import cosine_similarity\n",
    "similarity_scores = cosine_similarity(model.item_embeddings)\n",
    "print(similarity_scores.shape)\n",
    "similarity_scores"
   ]
  },
  {
   "cell_type": "markdown",
   "metadata": {},
   "source": [
    "**Q7**. For movie of idx 20, what are the idx of the 10 most similar movies?"
   ]
  },
  {
   "cell_type": "code",
   "execution_count": 14,
   "metadata": {},
   "outputs": [
    {
     "name": "stdout",
     "output_type": "stream",
     "text": [
      "314    Forrest Gump (1994)\n",
      "Name: title, dtype: object\n",
      "510    Silence of the Lambs, The (1991)\n",
      "Name: title, dtype: object\n",
      "0    Toy Story (1995)\n",
      "Name: title, dtype: object\n",
      "506    Aladdin (1992)\n",
      "Name: title, dtype: object\n",
      "1284    Good Will Hunting (1997)\n",
      "Name: title, dtype: object\n",
      "1503    Saving Private Ryan (1998)\n",
      "Name: title, dtype: object\n",
      "277    Shawshank Redemption, The (1994)\n",
      "Name: title, dtype: object\n",
      "3568    Monsters, Inc. (2001)\n",
      "Name: title, dtype: object\n",
      "1757    Bug's Life, A (1998)\n",
      "Name: title, dtype: object\n",
      "1438    Rain Man (1988)\n",
      "Name: title, dtype: object\n"
     ]
    }
   ],
   "source": [
    "idx = 20\n",
    "similarity_idx = similarity_scores[idx]\n",
    "ranked_idx = np.argsort(-similarity_idx)\n",
    "ranked_mid = [idx_to_mid[x] for x in ranked_idx]\n",
    "for mid in ranked_mid[:10]:\n",
    "    print(movies[movies.movieId == mid][\"title\"])"
   ]
  },
  {
   "cell_type": "markdown",
   "metadata": {},
   "source": [
    "**Q8**. Let's now test our engine! Suppose we have an user that likes **Toy Story** 🧸 (movie_id = 1). Which movies would you recommend to that user? In other words, which movies are the most similar to the movie Toy Story \n",
    "\n",
    "> ⚠️ **Warning**: Remember that your `similarity_scores` works with `idx` and you have the `movie_id` associated to your movie.\n",
    "\n",
    "Retrieve the **top 5 recommendations**."
   ]
  },
  {
   "cell_type": "code",
   "execution_count": 15,
   "metadata": {},
   "outputs": [
    {
     "name": "stdout",
     "output_type": "stream",
     "text": [
      "0    Toy Story (1995)\n",
      "Name: title, dtype: object\n",
      "224    Star Wars: Episode IV - A New Hope (1977)\n",
      "Name: title, dtype: object\n",
      "314    Forrest Gump (1994)\n",
      "Name: title, dtype: object\n",
      "418    Jurassic Park (1993)\n",
      "Name: title, dtype: object\n",
      "1757    Bug's Life, A (1998)\n",
      "Name: title, dtype: object\n"
     ]
    }
   ],
   "source": [
    "idx = mid_to_idx[1]\n",
    "similarity_idx = similarity_scores[idx]\n",
    "ranked_idx = np.argsort(-similarity_idx)\n",
    "ranked_mid = [idx_to_mid[x] for x in ranked_idx]\n",
    "for mid in ranked_mid[:5]:\n",
    "    print(movies[movies.movieId == mid][\"title\"])"
   ]
  },
  {
   "cell_type": "markdown",
   "metadata": {},
   "source": [
    "As the next step is to **deploy your model**, you need now to: \n",
    "\n",
    "**Q9**. Save your `similarity_scores` into pickle format. Save also `movies` DataFrame into pickle format. Save them at the `data/netflix` directory at the root of the repository."
   ]
  },
  {
   "cell_type": "code",
   "execution_count": 16,
   "metadata": {},
   "outputs": [],
   "source": [
    "directory = \"./data\"\n",
    "pickle.dump(similarity_scores, open(directory + \"/similarity_scores.pkl\", \"wb\"))\n",
    "pickle.dump(movies, open(directory + \"/movies.pkl\", \"wb\"))"
   ]
  },
  {
   "cell_type": "markdown",
   "metadata": {},
   "source": [
    "**Q10**. Encapsulate the previous code into functions, especially you will need:\n",
    "- `get_sim_scores(mid)` function that returns the vector of the similarity scores `sims` between a movie `mid` and all the other movies\n",
    "- `get_ranked_recos(sims)` that returns for a vector of similarity scores `sims` the list of all ranked recommendations (n_movies) (from most recommended to least recommended) - in the format list of (mid, score, name) tuple."
   ]
  },
  {
   "cell_type": "code",
   "execution_count": 18,
   "metadata": {},
   "outputs": [],
   "source": [
    "def get_movie_name(mid, movies):\n",
    "    try:\n",
    "        name = movies.loc[movies.movieId == mid].title.values[0]\n",
    "    except:\n",
    "        name = \"Unknown\"\n",
    "    return name\n",
    "\n",
    "def get_sim_scores(mid):\n",
    "    idx = mid_to_idx[mid]\n",
    "    sims = similarity_scores[idx]\n",
    "    return sims\n",
    "\n",
    "def get_ranked_recos(sims, movies):\n",
    "    recos = []\n",
    "    for idx in np.argsort(-sims):\n",
    "        mid = idx_to_mid[idx]\n",
    "        name = get_movie_name(mid, movies)\n",
    "        score = sims[idx]\n",
    "        recos.append((mid, score, name))\n",
    "    return recos\n",
    "\n",
    "def get_reccomendations(mid, movies, k):\n",
    "    sim_scores = get_sim_scores(mid)\n",
    "    return get_ranked_recos(sim_scores, movies)[:k]"
   ]
  },
  {
   "cell_type": "code",
   "execution_count": 19,
   "metadata": {},
   "outputs": [
    {
     "data": {
      "text/plain": [
       "[(2, 0.99999994, 'Jumanji (1995)'),\n",
       " (588, 0.6907587, 'Aladdin (1992)'),\n",
       " (158, 0.68903536, 'Casper (1995)'),\n",
       " (586, 0.65584224, 'Home Alone (1990)'),\n",
       " (500, 0.6440063, 'Mrs. Doubtfire (1993)'),\n",
       " (364, 0.6227479, 'Lion King, The (1994)'),\n",
       " (1, 0.61928195, 'Toy Story (1995)'),\n",
       " (317, 0.6173481, 'Santa Clause, The (1994)'),\n",
       " (2953, 0.6067216, 'Home Alone 2: Lost in New York (1992)'),\n",
       " (410, 0.60670555, 'Addams Family Values (1993)')]"
      ]
     },
     "execution_count": 19,
     "metadata": {},
     "output_type": "execute_result"
    }
   ],
   "source": [
    "get_reccomendations(2, movies, 10)"
   ]
  },
  {
   "cell_type": "markdown",
   "metadata": {},
   "source": [
    "If you have extra time, feel free now to improve your recommendation engine!"
   ]
  }
 ],
 "metadata": {
  "kernelspec": {
   "display_name": "Python 3 (ipykernel)",
   "language": "python",
   "name": "python3"
  },
  "language_info": {
   "codemirror_mode": {
    "name": "ipython",
    "version": 3
   },
   "file_extension": ".py",
   "mimetype": "text/x-python",
   "name": "python",
   "nbconvert_exporter": "python",
   "pygments_lexer": "ipython3",
   "version": "3.9.13"
  },
  "toc": {
   "base_numbering": 1,
   "nav_menu": {},
   "number_sections": true,
   "sideBar": true,
   "skip_h1_title": false,
   "title_cell": "Table of Contents",
   "title_sidebar": "Contents",
   "toc_cell": false,
   "toc_position": {},
   "toc_section_display": true,
   "toc_window_display": false
  }
 },
 "nbformat": 4,
 "nbformat_minor": 2
}
